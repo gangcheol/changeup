{
 "cells": [
  {
   "cell_type": "raw",
   "id": "30bb7566-02cb-4b00-9db1-66340ce10b44",
   "metadata": {},
   "source": [
    "---\n",
    "title : \"위클리 시사용어\"\n",
    "author : \"gc\"\n",
    "date : \"09/26/24\"\n",
    "---"
   ]
  },
  {
   "cell_type": "markdown",
   "id": "29c7ec00-fc6e-4c53-b886-c80246e2164c",
   "metadata": {},
   "source": [
    "# 2023.09 (2wk)"
   ]
  },
  {
   "cell_type": "markdown",
   "id": "6e0c92e1-5385-4867-8073-a195e77b8e5b",
   "metadata": {},
   "source": [
    "`1` 필립스 곡선 : 임급 상슬률과 실업률의 관계를 나타낸 그래프\n",
    "\n",
    "- 실업률이 높을수록 임금 상승률(물가 상승률)이 낮아짐\n",
    "\n",
    "- 실업률이 낮아지면 임금 상승률이 높아짐\n",
    "\n",
    "- 실업률을 통해 물가 상승률을 예측할 수 있고 정책 결정의 기준으로 삼을 수 있다는 점에서 의의가 있다.\n",
    "\n",
    "- 하지만, 1970년대 등장한 스태그플레이션을 설명하지 못한다는 한계가 있다.\n",
    "\n",
    "    - 스태그플레이션 : 경제가 침체 상태에 있음에도 불구하고 물가가 지속적으로 상승하는 **비정상적인 경제현상**"
   ]
  },
  {
   "cell_type": "markdown",
   "id": "743058c8-f7f7-437f-ab8d-4ff3cefdb38d",
   "metadata": {},
   "source": [
    "`2` 지니계수 : 소득 분포의 불평등도를 측정하기 위한 계수\n",
    "\n",
    "- 0부터 1까지의 수치로 나타냄, 0에 가까울수록 소득 분포가 평등하다고 판단."
   ]
  },
  {
   "cell_type": "markdown",
   "id": "022dde7f-3297-4863-8477-8105a6010233",
   "metadata": {},
   "source": [
    "`3` GDP : 일정 기간 동안 국적에 상관없이 한 나라의 영역 안에서 생산되는 모든 최종 생산물의 시장 가치의 합\n",
    "\n",
    "- 한 나라의 경제 규모와 생활 수준을 나타냄."
   ]
  }
 ],
 "metadata": {
  "kernelspec": {
   "display_name": "Python 3 (ipykernel)",
   "language": "python",
   "name": "python3"
  },
  "language_info": {
   "codemirror_mode": {
    "name": "ipython",
    "version": 3
   },
   "file_extension": ".py",
   "mimetype": "text/x-python",
   "name": "python",
   "nbconvert_exporter": "python",
   "pygments_lexer": "ipython3",
   "version": "3.11.7"
  }
 },
 "nbformat": 4,
 "nbformat_minor": 5
}

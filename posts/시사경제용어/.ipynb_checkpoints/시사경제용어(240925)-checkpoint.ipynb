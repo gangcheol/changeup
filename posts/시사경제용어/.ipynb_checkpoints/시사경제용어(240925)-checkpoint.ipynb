{
 "cells": [
  {
   "cell_type": "raw",
   "id": "aa2111f4-383a-481f-acfb-d355ebfd0b63",
   "metadata": {},
   "source": [
    "---\n",
    "title : \"01. 시사경제용어(24.09.25)\"\n",
    "author : \"GC\"\n",
    "date : \"09/25/24\"\n",
    "---"
   ]
  },
  {
   "cell_type": "markdown",
   "id": "31988663-f411-4e79-8379-79bf66419e6d",
   "metadata": {},
   "source": [
    "<iframe src=\"시사경제용어(240925).pdf\" width = 800 height = 800></iframe>"
   ]
  }
 ],
 "metadata": {
  "kernelspec": {
   "display_name": "Python 3 (ipykernel)",
   "language": "python",
   "name": "python3"
  },
  "language_info": {
   "codemirror_mode": {
    "name": "ipython",
    "version": 3
   },
   "file_extension": ".py",
   "mimetype": "text/x-python",
   "name": "python",
   "nbconvert_exporter": "python",
   "pygments_lexer": "ipython3",
   "version": "3.11.7"
  }
 },
 "nbformat": 4,
 "nbformat_minor": 5
}

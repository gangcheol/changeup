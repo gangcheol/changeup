{
 "cells": [
  {
   "cell_type": "raw",
   "id": "c0c68277-6d5f-4cf3-a842-aa6f6588596e",
   "metadata": {},
   "source": [
    "---\n",
    "title : \"큐레이션 4wk (1)\"\n",
    "author : \"gc\"\n",
    "date : \"10/02/24\"\n",
    "---"
   ]
  },
  {
   "cell_type": "markdown",
   "id": "07cca5a5-f459-45b3-9df8-887b630173ee",
   "metadata": {},
   "source": [
    "# Intro. 왜 일하는가? (추가 필독서)"
   ]
  },
  {
   "cell_type": "markdown",
   "id": "d15f9c60-a18d-4981-833f-561bda92fb61",
   "metadata": {},
   "source": [
    "`0` 지원동기\n",
    "\n",
    "- 지원동기는 인성하고 맞닿아 있다. $\\to$ 이를 회사의 loyalty와 맞물리게"
   ]
  },
  {
   "cell_type": "markdown",
   "id": "c7a67c13-acb9-400e-a5ca-4d30f54c26d5",
   "metadata": {},
   "source": [
    "`1` 책 추천 이유\n",
    "\n",
    "-\n",
    "\n",
    "`2` 주요 내용"
   ]
  }
 ],
 "metadata": {
  "kernelspec": {
   "display_name": "Python 3 (ipykernel)",
   "language": "python",
   "name": "python3"
  },
  "language_info": {
   "codemirror_mode": {
    "name": "ipython",
    "version": 3
   },
   "file_extension": ".py",
   "mimetype": "text/x-python",
   "name": "python",
   "nbconvert_exporter": "python",
   "pygments_lexer": "ipython3",
   "version": "3.11.7"
  }
 },
 "nbformat": 4,
 "nbformat_minor": 5
}

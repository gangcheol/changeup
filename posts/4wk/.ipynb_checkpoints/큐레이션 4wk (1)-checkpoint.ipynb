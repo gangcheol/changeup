{
 "cells": [
  {
   "cell_type": "raw",
   "id": "c0c68277-6d5f-4cf3-a842-aa6f6588596e",
   "metadata": {},
   "source": [
    "---\n",
    "title : \"큐레이션 4wk (1)\"\n",
    "author : \"gc\"\n",
    "date : \"10/02/24\"\n",
    "---"
   ]
  },
  {
   "cell_type": "markdown",
   "id": "07cca5a5-f459-45b3-9df8-887b630173ee",
   "metadata": {},
   "source": [
    "# Intro. 왜 일하는가? (추가 필독서)"
   ]
  },
  {
   "cell_type": "markdown",
   "id": "1eb6e4b2-7922-4f57-a854-0bd739aa104e",
   "metadata": {},
   "source": [
    "> 결론 : 우리가 맛보는 진정한 기쁨은 `일 속에` 있다.\n",
    "> - 시대에 맞지 않는 이야기지만 기업은 이런 사람들을 좋아한다..."
   ]
  },
  {
   "cell_type": "markdown",
   "id": "d15f9c60-a18d-4981-833f-561bda92fb61",
   "metadata": {},
   "source": [
    "`-` 지원동기\n",
    "\n",
    "- 지원동기는 인성하고 맞닿아 있다. $\\to$ 이를 회사의 loyalty와 맞물리게"
   ]
  },
  {
   "cell_type": "markdown",
   "id": "c7a67c13-acb9-400e-a5ca-4d30f54c26d5",
   "metadata": {},
   "source": [
    "`-` 책 추천 이유\n",
    "\n",
    "1. 삼성의 10년간 추천도서\n",
    "2. 이론이 아닌 실제 스토리\n",
    "3. 일의 의미와 목적에 대해 생각 : 정체성 찾기\n",
    "4. 현재 상황을 다른 각도로 보게 됨.\n",
    "5. 아주 중요한 성장의 포인트를 만나게 됨.\n",
    "\n",
    "`-` 주요 내용\n",
    "1. What - `why` - how : 인생 프로세스, 이 책은 `why`에 대해 이야기한다.\n",
    "    - 진정한 가치 있는 인생을 살아가기 위하여\n",
    "2. Flow(몰입)할 수 있는 환경에서 일할 수 있다록 날 몰아부치자."
   ]
  },
  {
   "cell_type": "markdown",
   "id": "d5934371-4e67-46de-a3b5-7540c6e3ebc2",
   "metadata": {},
   "source": [
    "`-` 책 주요부분\n",
    "\n",
    "</center><img src = 1.jpg width = 500><center>"
   ]
  },
  {
   "cell_type": "markdown",
   "id": "543c8154-e6dc-451c-84df-aa194e6763aa",
   "metadata": {},
   "source": [
    "---"
   ]
  },
  {
   "cell_type": "markdown",
   "id": "2c5d4220-d682-4198-aafc-df06cc3543d9",
   "metadata": {},
   "source": [
    "# 1. 지금` 하고 있는 일이 천직`이다.(p.79, $\\star\\star\\star$)"
   ]
  },
  {
   "cell_type": "markdown",
   "id": "9527e473-90c0-4997-8d00-f5e88f255df9",
   "metadata": {},
   "source": [
    "`-` 좋아할 수는 없어도, 최선을 다할 수는 있다!\n",
    "\n",
    "`-` 상황을 바꿀 수는 없어도, 싫어하는 마음은 해결할 수 있다!\n",
    "\n",
    "`-` 나 밖에 할수 없다면? 해야만 하는 이유가 생긴다."
   ]
  },
  {
   "cell_type": "markdown",
   "id": "86bea81f-9bde-4958-bd9c-612aa6746e3e",
   "metadata": {},
   "source": [
    "---"
   ]
  },
  {
   "cell_type": "markdown",
   "id": "c73eb40c-ac2f-4724-ad69-bce6af60f36b",
   "metadata": {},
   "source": [
    "# 2. 기본기 리스트 - `잡일을 재정의` 하는 방법"
   ]
  },
  {
   "cell_type": "markdown",
   "id": "c2f5212c-308b-4ccf-8482-e6d0d04b8c30",
   "metadata": {},
   "source": [
    "`-` 세세한 부분까지 주의를 기울이는 자세 : 이건 나 밖에 모른다!"
   ]
  },
  {
   "cell_type": "markdown",
   "id": "db9e2baf-bfe2-4f6c-88ce-db71ec21ab2e",
   "metadata": {},
   "source": [
    "`-` 이론보다 경험을 중요하게 여기는 자세 : `성장 루프`(자소서 마지막 단락!)\n",
    "\n",
    "1. 의도와 기획 : 사전 설계\n",
    "\n",
    "2. 실행과 반복 : 실제 업무 $\\to$ 업무 시간\n",
    "\n",
    "3. 학습과 수정 : 사후 피드백"
   ]
  },
  {
   "cell_type": "markdown",
   "id": "04bc7bf1-35eb-4d53-a981-78a40d15fd32",
   "metadata": {},
   "source": [
    "`-` 착실하게 작업을 계속하는 자세 : 낭중지추 정신"
   ]
  },
  {
   "cell_type": "markdown",
   "id": "19984e20-404d-4d48-a550-2942e43bb2fc",
   "metadata": {},
   "source": [
    "---"
   ]
  },
  {
   "cell_type": "markdown",
   "id": "e5643f12-d4c3-4988-8554-3b0a5b3c9b2a",
   "metadata": {},
   "source": [
    "# 3. 일이 아니라 `성취를 좋아하는 것`이다!"
   ]
  },
  {
   "cell_type": "markdown",
   "id": "0206b7ec-458c-4839-8264-8bc5a219b243",
   "metadata": {},
   "source": [
    "아래 질문들에 대해 앞으로 위처럼 대답하자."
   ]
  },
  {
   "cell_type": "markdown",
   "id": "f3bb493d-ab20-4715-962d-d9d9df799fe8",
   "metadata": {},
   "source": [
    "`-` 돈 받는 만큼만 해야지?\n",
    "\n",
    "`-` 왜 그렇게까지 해?\n",
    "\n",
    "`-` 쉽게 쉽게 해~ 참 피곤하게 산다."
   ]
  },
  {
   "cell_type": "markdown",
   "id": "d57b6f18-e23f-4981-8186-520f6e2b83c1",
   "metadata": {},
   "source": [
    "---"
   ]
  },
  {
   "cell_type": "markdown",
   "id": "3fe16041-1ed2-4c9c-b67a-1bec99445d67",
   "metadata": {},
   "source": [
    "# 4. 최소한의 노력으로 최대한의 효과를 얻는 게 최고의 미덕"
   ]
  },
  {
   "cell_type": "markdown",
   "id": "7c8a812e-9131-4186-8f6c-21599999b489",
   "metadata": {},
   "source": [
    "Price, Product"
   ]
  },
  {
   "cell_type": "markdown",
   "id": "99e82b71-6873-48c4-8dcd-49656d70d2bf",
   "metadata": {},
   "source": [
    "`-` 최소한이건 최대한이건 일단 효과를 얻어라 $\\to$ 결과물을 내라.\n",
    "\n",
    "`-` 그 후에 최소한의 노력을 찾아가면 되는 것!"
   ]
  },
  {
   "cell_type": "markdown",
   "id": "df1ce96e-160a-4c8f-baf0-6a7e36836f4b",
   "metadata": {},
   "source": [
    "---"
   ]
  },
  {
   "cell_type": "markdown",
   "id": "1301a475-aa8d-44b5-a937-cd51a0d2e729",
   "metadata": {},
   "source": [
    "# 5. `좋아하는 일`에 대해서"
   ]
  },
  {
   "cell_type": "markdown",
   "id": "6af4d651-1d7e-4205-b9b8-592677183d09",
   "metadata": {},
   "source": [
    "없어도 만들자..."
   ]
  },
  {
   "cell_type": "markdown",
   "id": "fed6ea30-b88c-4772-aadd-26c10651e304",
   "metadata": {},
   "source": [
    "`-` 그런 일을 하든지\n",
    "\n",
    "`-` 그런 일을 찾든지\n",
    "\n",
    "`-` 내가 하는 일을 `좋아하던지`($\\star\\star\\star$) $\\to$ 스스로 가스라이팅을 걸자."
   ]
  },
  {
   "cell_type": "markdown",
   "id": "22463017-7435-4997-86dc-42e428f107f1",
   "metadata": {},
   "source": [
    "---"
   ]
  },
  {
   "cell_type": "markdown",
   "id": "2817d6a3-37ca-4986-8063-3c0a3e2df6a0",
   "metadata": {},
   "source": [
    "# 6. 자연성인간"
   ]
  },
  {
   "cell_type": "markdown",
   "id": "22529e92-681b-4315-897a-d77eed2f7dbb",
   "metadata": {},
   "source": [
    "`1` 자연성인간 : 스스로 불이 붙는 인간\n",
    "\n",
    "`2` 가연성인간 : 다른 사람의 영향으로 불이 붙는 인간\n",
    "\n",
    "`3` 불연성인간 : 아무리해도 불이 붙지 않는 인간"
   ]
  },
  {
   "cell_type": "markdown",
   "id": "f59c4c8f-5264-4808-bd14-747278c51828",
   "metadata": {},
   "source": [
    "---"
   ]
  },
  {
   "cell_type": "markdown",
   "id": "245ddcc0-16e3-4248-b2f0-e3c8b2429912",
   "metadata": {},
   "source": [
    "# 7. 완벽주의"
   ]
  },
  {
   "cell_type": "markdown",
   "id": "4e8391cc-4f2e-4c20-ade6-db0dc7041ddd",
   "metadata": {},
   "source": [
    "`1` 행동은 완성주의\n",
    "\n",
    "`2` 태도와 의식, 목표는 완벽주의"
   ]
  }
 ],
 "metadata": {
  "kernelspec": {
   "display_name": "Python 3 (ipykernel)",
   "language": "python",
   "name": "python3"
  },
  "language_info": {
   "codemirror_mode": {
    "name": "ipython",
    "version": 3
   },
   "file_extension": ".py",
   "mimetype": "text/x-python",
   "name": "python",
   "nbconvert_exporter": "python",
   "pygments_lexer": "ipython3",
   "version": "3.11.7"
  }
 },
 "nbformat": 4,
 "nbformat_minor": 5
}

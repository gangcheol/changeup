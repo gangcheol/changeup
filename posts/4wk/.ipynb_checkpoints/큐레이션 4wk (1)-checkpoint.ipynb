{
 "cells": [
  {
   "cell_type": "raw",
   "id": "c0c68277-6d5f-4cf3-a842-aa6f6588596e",
   "metadata": {},
   "source": [
    "---\n",
    "title : \"큐레이션 4wk (1)\"\n",
    "author : \"gc\"\n",
    "date : \"10/02/24\"\n",
    "---"
   ]
  },
  {
   "cell_type": "markdown",
   "id": "07cca5a5-f459-45b3-9df8-887b630173ee",
   "metadata": {},
   "source": [
    "# Intro. 왜 일하는가? (추가 필독서)"
   ]
  },
  {
   "cell_type": "markdown",
   "id": "1eb6e4b2-7922-4f57-a854-0bd739aa104e",
   "metadata": {},
   "source": [
    "> 결론 : 우리가 맛보는 진정한 기쁨은 `일 속에` 있다.\n",
    "> - 시대에 맞지 않는 이야기지만 기업은 이런 사람들을 좋아한다..."
   ]
  },
  {
   "cell_type": "markdown",
   "id": "d15f9c60-a18d-4981-833f-561bda92fb61",
   "metadata": {},
   "source": [
    "`-` 지원동기\n",
    "\n",
    "- 지원동기는 인성하고 맞닿아 있다. $\\to$ 이를 회사의 loyalty와 맞물리게"
   ]
  },
  {
   "cell_type": "markdown",
   "id": "c7a67c13-acb9-400e-a5ca-4d30f54c26d5",
   "metadata": {},
   "source": [
    "`-` 책 추천 이유\n",
    "\n",
    "1. 삼성의 10년간 추천도서\n",
    "2. 이론이 아닌 실제 스토리\n",
    "3. 일의 의미와 목적에 대해 생각 : 정체성 찾기\n",
    "4. 현재 상황을 다른 각도로 보게 됨.\n",
    "5. 아주 중요한 성장의 포인트를 만나게 됨.\n",
    "\n",
    "`-` 주요 내용\n",
    "1. What - `why` - how : 인생 프로세스, 이 책은 `why`에 대해 이야기한다.\n",
    "    - 진정한 가치 있는 인생을 살아가기 위하여\n",
    "2. Flow(몰입)할 수 있는 환경에서 일할 수 있다록 날 몰아부치자."
   ]
  },
  {
   "cell_type": "markdown",
   "id": "d5934371-4e67-46de-a3b5-7540c6e3ebc2",
   "metadata": {},
   "source": [
    "`-` 책 주요부분\n",
    "\n",
    "</center><img src = 1.jpg width = 500><center>"
   ]
  },
  {
   "cell_type": "markdown",
   "id": "543c8154-e6dc-451c-84df-aa194e6763aa",
   "metadata": {},
   "source": [
    "---"
   ]
  },
  {
   "cell_type": "markdown",
   "id": "2c5d4220-d682-4198-aafc-df06cc3543d9",
   "metadata": {},
   "source": [
    "# 1. 지금` 하고 있는 일이 천직`이다.(p.79, $\\star\\star\\star$)"
   ]
  },
  {
   "cell_type": "markdown",
   "id": "9527e473-90c0-4997-8d00-f5e88f255df9",
   "metadata": {},
   "source": [
    "`-` 좋아할 수는 없어도, 최선을 다할 수는 있다!\n",
    "\n",
    "`-` 상황을 바꿀 수는 없어도, 싫어하는 마음은 해결할 수 있다!\n",
    "\n",
    "`-` 나 밖에 할수 없다면? 해야만 하는 이유가 생긴다."
   ]
  },
  {
   "cell_type": "markdown",
   "id": "86bea81f-9bde-4958-bd9c-612aa6746e3e",
   "metadata": {},
   "source": [
    "---"
   ]
  },
  {
   "cell_type": "markdown",
   "id": "c73eb40c-ac2f-4724-ad69-bce6af60f36b",
   "metadata": {},
   "source": [
    "# 2. 기본기 리스트 - `잡일을 재정의` 하는 방법"
   ]
  },
  {
   "cell_type": "markdown",
   "id": "c2f5212c-308b-4ccf-8482-e6d0d04b8c30",
   "metadata": {},
   "source": [
    "`-` 세세한 부분까지 주의를 기울이는 자세 : 이건 나 밖에 모른다!"
   ]
  },
  {
   "cell_type": "markdown",
   "id": "db9e2baf-bfe2-4f6c-88ce-db71ec21ab2e",
   "metadata": {},
   "source": [
    "`-` 이론보다 경험을 중요하게 여기는 자세 : `성장 루프`(자소서 마지막 단락!)\n",
    "\n",
    "1. 의도와 기획 : 사전 설계\n",
    "\n",
    "2. 실행과 반복 : 실제 업무 $\\to$ 업무 시간\n",
    "\n",
    "3. 학습과 수정 : 사후 피드백"
   ]
  },
  {
   "cell_type": "markdown",
   "id": "04bc7bf1-35eb-4d53-a981-78a40d15fd32",
   "metadata": {},
   "source": [
    "`-` 착실하게 작업을 계속하는 자세 : 낭중지추 정신"
   ]
  },
  {
   "cell_type": "markdown",
   "id": "19984e20-404d-4d48-a550-2942e43bb2fc",
   "metadata": {},
   "source": [
    "---"
   ]
  },
  {
   "cell_type": "markdown",
   "id": "e5643f12-d4c3-4988-8554-3b0a5b3c9b2a",
   "metadata": {},
   "source": [
    "# 3. 일이 아니라 `성취를 좋아하는 것`이다!"
   ]
  },
  {
   "cell_type": "markdown",
   "id": "0206b7ec-458c-4839-8264-8bc5a219b243",
   "metadata": {},
   "source": [
    "아래 질문들에 대해 앞으로 위처럼 대답하자."
   ]
  },
  {
   "cell_type": "markdown",
   "id": "f3bb493d-ab20-4715-962d-d9d9df799fe8",
   "metadata": {},
   "source": [
    "`-` 돈 받는 만큼만 해야지?\n",
    "\n",
    "`-` 왜 그렇게까지 해?\n",
    "\n",
    "`-` 쉽게 쉽게 해~ 참 피곤하게 산다."
   ]
  },
  {
   "cell_type": "markdown",
   "id": "d57b6f18-e23f-4981-8186-520f6e2b83c1",
   "metadata": {},
   "source": [
    "---"
   ]
  },
  {
   "cell_type": "markdown",
   "id": "3fe16041-1ed2-4c9c-b67a-1bec99445d67",
   "metadata": {},
   "source": [
    "# 4. 최소한의 노력으로 최대한의 효과를 얻는 게 최고의 미덕"
   ]
  },
  {
   "cell_type": "markdown",
   "id": "7c8a812e-9131-4186-8f6c-21599999b489",
   "metadata": {},
   "source": [
    "Price, Product"
   ]
  },
  {
   "cell_type": "markdown",
   "id": "99e82b71-6873-48c4-8dcd-49656d70d2bf",
   "metadata": {},
   "source": [
    "`-` 최소한이건 최대한이건 일단 효과를 얻어라 $\\to$ 결과물을 내라.\n",
    "\n",
    "`-` 그 후에 최소한의 노력을 찾아가면 되는 것!"
   ]
  },
  {
   "cell_type": "markdown",
   "id": "df1ce96e-160a-4c8f-baf0-6a7e36836f4b",
   "metadata": {},
   "source": [
    "---"
   ]
  },
  {
   "cell_type": "markdown",
   "id": "1301a475-aa8d-44b5-a937-cd51a0d2e729",
   "metadata": {},
   "source": [
    "# 5. `좋아하는 일`에 대해서"
   ]
  },
  {
   "cell_type": "markdown",
   "id": "6af4d651-1d7e-4205-b9b8-592677183d09",
   "metadata": {},
   "source": [
    "없어도 만들자..."
   ]
  },
  {
   "cell_type": "markdown",
   "id": "fed6ea30-b88c-4772-aadd-26c10651e304",
   "metadata": {},
   "source": [
    "`-` 그런 일을 하든지\n",
    "\n",
    "`-` 그런 일을 찾든지\n",
    "\n",
    "`-` 내가 하는 일을 `좋아하던지`($\\star\\star\\star$) $\\to$ 스스로 가스라이팅을 걸자."
   ]
  },
  {
   "cell_type": "markdown",
   "id": "22463017-7435-4997-86dc-42e428f107f1",
   "metadata": {},
   "source": [
    "---"
   ]
  },
  {
   "cell_type": "markdown",
   "id": "2817d6a3-37ca-4986-8063-3c0a3e2df6a0",
   "metadata": {},
   "source": [
    "# 6. 자연성인간"
   ]
  },
  {
   "cell_type": "markdown",
   "id": "22529e92-681b-4315-897a-d77eed2f7dbb",
   "metadata": {},
   "source": [
    "`1` 자연성인간 : 스스로 불이 붙는 인간\n",
    "\n",
    "`2` 가연성인간 : 다른 사람의 영향으로 불이 붙는 인간\n",
    "\n",
    "`3` 불연성인간 : 아무리해도 불이 붙지 않는 인간"
   ]
  },
  {
   "cell_type": "markdown",
   "id": "f59c4c8f-5264-4808-bd14-747278c51828",
   "metadata": {},
   "source": [
    "---"
   ]
  },
  {
   "cell_type": "markdown",
   "id": "245ddcc0-16e3-4248-b2f0-e3c8b2429912",
   "metadata": {},
   "source": [
    "# 7. 완벽주의"
   ]
  },
  {
   "cell_type": "markdown",
   "id": "4e8391cc-4f2e-4c20-ade6-db0dc7041ddd",
   "metadata": {},
   "source": [
    "`1` 행동은 완성주의\n",
    "\n",
    "`2` 태도와 의식, 목표는 완벽주의"
   ]
  },
  {
   "cell_type": "markdown",
   "id": "4cd2613d-9be0-4c2b-a25b-072247977ff6",
   "metadata": {},
   "source": [
    "---"
   ]
  },
  {
   "cell_type": "markdown",
   "id": "15173402-8e80-47eb-9437-68825b23a39c",
   "metadata": {},
   "source": [
    "# 8. 지원동기"
   ]
  },
  {
   "cell_type": "markdown",
   "id": "231640ae-298a-4c45-8fb1-b9656ed61413",
   "metadata": {},
   "source": [
    "## (1) 지원동기 기초레벨"
   ]
  },
  {
   "cell_type": "markdown",
   "id": "dcf130c2-374e-492a-a599-f25b037eb65c",
   "metadata": {},
   "source": [
    "- 회사 이름만 바꿔도 어디든 지원할 수 있음"
   ]
  },
  {
   "cell_type": "markdown",
   "id": "ecc0d759-83ec-4b79-bac0-0f64495f78e5",
   "metadata": {},
   "source": [
    "\n",
    "</center><img src = 지원동기1.png width = 500><center>"
   ]
  },
  {
   "cell_type": "markdown",
   "id": "ddebd906-b331-4a66-9235-2b323d6ce383",
   "metadata": {},
   "source": [
    "## (2) 지원동기 기초레벨2"
   ]
  },
  {
   "cell_type": "markdown",
   "id": "6bdae69f-8961-4705-8224-46c2fbd679b5",
   "metadata": {},
   "source": [
    "`-` 회사만의 경쟁력이 보이지 않음.\n",
    "\n",
    "1. 소제목만 적절함.\n",
    "2. 어떤 제품 때문에 그런건지가 구체적으로 드러나지 않음\n",
    "3. 조사한 내용이 반영되어 있지 않음"
   ]
  },
  {
   "cell_type": "markdown",
   "id": "ca800c0f-69df-4282-99c1-7ab88019c1c2",
   "metadata": {},
   "source": [
    "\n",
    "</center><img src = 지원동기2.png width = 500><center>"
   ]
  },
  {
   "cell_type": "markdown",
   "id": "2db857b7-9d85-42c8-a6b4-6b988baf0572",
   "metadata": {},
   "source": [
    "## (3) 지원동기 기초레벨3"
   ]
  },
  {
   "cell_type": "markdown",
   "id": "822b8472-4fa9-4316-bc49-9d2b636b726c",
   "metadata": {},
   "source": [
    "\n",
    "</center><img src = 지원동기3.png width = 500><center>"
   ]
  },
  {
   "cell_type": "markdown",
   "id": "f434327d-a098-420f-9b75-b492132e8d47",
   "metadata": {},
   "source": [
    "## (4) 지원동기 잘 된 케이스 "
   ]
  },
  {
   "cell_type": "markdown",
   "id": "a34f9d13-1c0b-4197-8549-15fa99f34d9a",
   "metadata": {},
   "source": [
    "`1` 왜 국내시장 점유율이 1위 했는지 잘 나와있음\n",
    "\n",
    "`2` 한 가지 더 욕심을 내보자 $\\to$ 보안 사고 감소와 운영 효율성, 높은 고객의 만족도 수치화"
   ]
  },
  {
   "cell_type": "markdown",
   "id": "053ace3a-d6b7-4370-87f0-25306096d5c9",
   "metadata": {},
   "source": [
    "</center><img src = 지원동기4.png width = 500><center>"
   ]
  },
  {
   "cell_type": "markdown",
   "id": "b22c003b-3167-4e1c-945b-c3fda4d7e0d1",
   "metadata": {},
   "source": [
    "---"
   ]
  },
  {
   "cell_type": "markdown",
   "id": "b1d9a44e-f79b-464e-bcdb-570144d5e64e",
   "metadata": {},
   "source": [
    "## (5) 지원동기 잘 된 케이스 "
   ]
  },
  {
   "cell_type": "markdown",
   "id": "cd914d2c-6962-4a1e-a09d-9f70c5580b1f",
   "metadata": {},
   "source": [
    "`-` 구체적인 드라마명, 수치가 잘 드러나 있음\n",
    "\n",
    "`-` 피드백 1. 글로벌 OTT와 로컬 채널에서 얼마나 큰 관심을 받았는 지."
   ]
  },
  {
   "cell_type": "markdown",
   "id": "65b9bf27-3d9b-4148-97e9-a18184f4b9ae",
   "metadata": {},
   "source": [
    "</center><img src = 지원동기5.png width = 500><center>"
   ]
  },
  {
   "cell_type": "markdown",
   "id": "59d34041-5ac4-469d-9354-276520915925",
   "metadata": {},
   "source": [
    "`-` 글로벌 시장의 경쟁력을 매출과 함께 전달한 케이스(비비고, CJ제일제당)\n",
    "\n",
    "- 피드백 1 : 고객의 후기와 리뷰가 들어가면 더 좋음\n",
    "    - 뭐 해외 유튜브 등등"
   ]
  },
  {
   "cell_type": "markdown",
   "id": "d530beb0-a180-467e-8c77-33f4fabf6bc2",
   "metadata": {},
   "source": [
    "</center><img src = 지원동기6.png width = 500><center>"
   ]
  },
  {
   "cell_type": "markdown",
   "id": "f057e0fc-e6ba-4b00-97b1-9e6e3d631c47",
   "metadata": {},
   "source": [
    "`-` 계기, 경쟁력, 수치화가 모두 언급되어 있음"
   ]
  },
  {
   "cell_type": "markdown",
   "id": "59ae47b5-a295-41e2-83be-adeb92b71518",
   "metadata": {},
   "source": [
    "</center><img src = 지원동기7.png width = 500><center>"
   ]
  },
  {
   "cell_type": "markdown",
   "id": "9818dba4-03c4-47a9-a2f5-ee4bb3550d04",
   "metadata": {},
   "source": [
    "---"
   ]
  },
  {
   "cell_type": "markdown",
   "id": "6314a886-2bfa-4e4f-bc1e-7fd1639e2867",
   "metadata": {},
   "source": [
    "## summary"
   ]
  },
  {
   "cell_type": "markdown",
   "id": "b64f89f7-a8e6-4f86-9819-20db43636146",
   "metadata": {},
   "source": [
    "`-` 도전버전 3개 이상 통과하면 제출하자."
   ]
  },
  {
   "cell_type": "markdown",
   "id": "5fa24896-d215-4eb2-9a92-08c7d039aa97",
   "metadata": {},
   "source": [
    "\n",
    "</center><img src = 지원동2.png width = 500><center>"
   ]
  },
  {
   "cell_type": "markdown",
   "id": "eb9ed5fc-f20b-4d88-a9df-9e24417e1341",
   "metadata": {},
   "source": [
    "`-` 회사의 how를 들어내며 지원기를 쓸 때, why(배경)까지 쓰면 best!\n",
    "\n",
    "`-` 모든 기사를 다 때려박지 말고, 한 꼭지를 찾아서 그거와 관련된 내용을 끌고가자~~\n",
    "\n",
    "`-` 만약 그 회사가 뭐하다 실패하면? 하나를 더 추가해서 이걸 바탕으로 새로운 도전을 계속 하고 있다는 것이 인상깊었다... 뭐.. 감명 받았다...\n",
    "\n",
    "`-` 회사지원동기 $\\to$ 기업 사례\n",
    "\n",
    "`-` 직무지원동기 $\\to$ 필살기 구체화\n",
    "\n",
    "`-` 내가 모든 자소서에 적용할 꼭지는 `글로벌`에 초점을 두자.\n",
    "\n",
    "`-` 현직자 인터뷰는 무조건 찾아보자!\n",
    "\n",
    "1. `경신스 기반`으로 질문을 준비\n",
    "\n",
    "2. 내가 조사한 기업의 경쟁력이 기업의 경쟁력이 맞는지!\n",
    "\n",
    "3. 예시"
   ]
  },
  {
   "cell_type": "markdown",
   "id": "6d73cd38-0954-4a17-b0fb-989446ed2044",
   "metadata": {},
   "source": [
    "</center><img src = 현터뷰.png width = 500><center>"
   ]
  },
  {
   "cell_type": "markdown",
   "id": "1b68ddab-899f-4d70-87ed-99d453f31367",
   "metadata": {},
   "source": [
    "4. 현터뷰 후 달라진 점\n",
    "\n",
    "    - 필살기에 대한 검증 및 수정\n",
    "\n",
    "    - 중요한 역량, KPI가 무엇인지 정보를 얻어 그에 대한 대비가능\n",
    "\n",
    "    - 혼자서 고민하고 괴로워하는 시간을 줄이자!"
   ]
  }
 ],
 "metadata": {
  "kernelspec": {
   "display_name": "Python 3 (ipykernel)",
   "language": "python",
   "name": "python3"
  },
  "language_info": {
   "codemirror_mode": {
    "name": "ipython",
    "version": 3
   },
   "file_extension": ".py",
   "mimetype": "text/x-python",
   "name": "python",
   "nbconvert_exporter": "python",
   "pygments_lexer": "ipython3",
   "version": "3.11.7"
  }
 },
 "nbformat": 4,
 "nbformat_minor": 5
}

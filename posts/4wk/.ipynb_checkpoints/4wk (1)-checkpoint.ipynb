{
 "cells": [
  {
   "cell_type": "raw",
   "id": "9a1015e7-5fdd-4da9-b668-6278716e995a",
   "metadata": {},
   "source": [
    "---\n",
    "title : \"일을 사랑하는가 (1)\"\n",
    "author : \"gc\"\n",
    "date : \"10/01/24\"\n",
    "---"
   ]
  },
  {
   "cell_type": "markdown",
   "id": "7d076403-62d1-4561-8791-a08b8dbeeb46",
   "metadata": {},
   "source": [
    "# 1. 지금 하고 있는 일이 천직이다.(p.79)"
   ]
  },
  {
   "cell_type": "markdown",
   "id": "f884b3c7-077e-41a8-8b82-793d839fa8ec",
   "metadata": {},
   "source": [
    "`1` 좋아할 수 는 없어도, 최선을 다할 수는 있다!\n",
    "\n",
    "`2` 상황을 바꿀 수는 없어도, 싫어하는 마음은 해결할 수 있다!\n",
    "\n",
    "`3` 나 밖에 할 수 없다면? 해야만 하는 이유가 생긴다\n",
    "\n",
    "- 즉, 마인드 셋팅이 중요. $\\to$ 내가 하는 일의 의미를 찾으면 `그게 천직이 되는 것이다.`"
   ]
  },
  {
   "cell_type": "markdown",
   "id": "9103db3b-3e3b-48e8-bc10-db7c5f0787a7",
   "metadata": {},
   "source": [
    "***"
   ]
  },
  {
   "cell_type": "markdown",
   "id": "068e9cbc-5282-4717-b6a7-f2de51ece186",
   "metadata": {},
   "source": [
    "# 2. 일이 아니라 성취를 좋아하는 것이다!(p.87)\n",
    "\n",
    "`1` 돈 받는 만큼만 해야지? (x) $\\to$ **열심히 일하면 손해보는 것이 아니다. 그냥 자기가 뒤쳐지는 느낌을 받는 게 싫어서 그럼**\n",
    "\n",
    "- 즉, 햐향평준화를 하면서 자기 위안을 하는 것임\n",
    "\n",
    "`2` 왜 그렇게까지 해?\n",
    "\n",
    "`3` 쉽게 쉽게 해, 참 피곤하게 산다"
   ]
  },
  {
   "cell_type": "markdown",
   "id": "3304699a-bef0-4795-b1b4-2fa8dd206ae3",
   "metadata": {},
   "source": [
    "***"
   ]
  },
  {
   "cell_type": "markdown",
   "id": "ef84a25b-f2a3-4122-89fa-8ec3e9f2d38a",
   "metadata": {},
   "source": [
    "# 3. 작은 변화를 알아보고, `기뻐했던 경험`이 언제였나?(p.91)"
   ]
  },
  {
   "cell_type": "markdown",
   "id": "1508939e-8b46-4387-85e4-af30336c1920",
   "metadata": {},
   "source": [
    "`1` ex. AI art\n",
    "\n",
    "* 이제 그림 그리는 것도 AI 한테 시킬 수 있음. 이런 것처럼 업무의 작은 것에 있어서 기뻐하자."
   ]
  },
  {
   "cell_type": "markdown",
   "id": "7dd71f36-5ed5-4535-a3e9-01b962ce0c62",
   "metadata": {},
   "source": [
    "***"
   ]
  },
  {
   "cell_type": "markdown",
   "id": "d1dbfa12-1e24-4448-8695-5ab7ec35a0f0",
   "metadata": {},
   "source": [
    "# comment"
   ]
  },
  {
   "cell_type": "markdown",
   "id": "fd4d6bef-e371-4049-98c2-656c31ee12cc",
   "metadata": {},
   "source": [
    "`1` 지원동기에 적용해볼 문장 1가지 : 일이 아닌 성취를 좋아하는 것이다.\n",
    "\n",
    "`2` 깨달은 점 : 예전에 공부할 때, 하기 싫으면 하향평준화를 하던 기억이 떠올랐다. 성취를 못할까봐.... 그런 듯하다. 비겁해 지는 습관을 버리자."
   ]
  }
 ],
 "metadata": {
  "kernelspec": {
   "display_name": "Python 3 (ipykernel)",
   "language": "python",
   "name": "python3"
  },
  "language_info": {
   "codemirror_mode": {
    "name": "ipython",
    "version": 3
   },
   "file_extension": ".py",
   "mimetype": "text/x-python",
   "name": "python",
   "nbconvert_exporter": "python",
   "pygments_lexer": "ipython3",
   "version": "3.11.7"
  }
 },
 "nbformat": 4,
 "nbformat_minor": 5
}

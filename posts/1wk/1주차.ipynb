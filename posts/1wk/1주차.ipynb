{
 "cells": [
  {
   "cell_type": "raw",
   "id": "c0a7d862-0ea7-472a-a48f-4c30d9ce0123",
   "metadata": {},
   "source": [
    "---\n",
    "title : \"00. Intro\"\n",
    "author : \"gc\"\n",
    "date : \"09/11/24\"\n",
    "---"
   ]
  },
  {
   "cell_type": "markdown",
   "id": "10d84b95-bed5-4d60-bde8-5ea395f1c7df",
   "metadata": {},
   "source": [
    "# 1일차"
   ]
  },
  {
   "cell_type": "markdown",
   "id": "fab17998-45f3-44ba-919c-227b9fab7239",
   "metadata": {},
   "source": [
    "## 일본전산이야기(Intro)"
   ]
  },
  {
   "cell_type": "markdown",
   "id": "bd899b29-a3c9-4c91-bc3b-c4e409fa52ff",
   "metadata": {},
   "source": [
    "### Mind 세션의 의미"
   ]
  },
  {
   "cell_type": "markdown",
   "id": "efd5e1ab-c747-4a0e-a3ba-4df6aef25cb2",
   "metadata": {},
   "source": [
    "1. 가장 어려운 부분이 인성관점 - 시간이 걸리고 관점이 필요함\n",
    "\n",
    "2. 경험의 재해석과 경험 만들기의 방향성을 잡아줌\n",
    "\n",
    "3. 마인드를 바꿔서 결과물을 만든다는 프로세스를 실행할 수 있음\n",
    "\n",
    "4. 면접에서 나도 모르게 이 책의 내용이 튀어나옴."
   ]
  },
  {
   "cell_type": "markdown",
   "id": "5a9d1dfc-b871-4ebe-b540-55b9da5c583a",
   "metadata": {},
   "source": [
    "### 책 추천 이유"
   ]
  },
  {
   "cell_type": "markdown",
   "id": "19e4deaf-931a-420f-9af6-169081d41825",
   "metadata": {},
   "source": [
    "`1` 불황에도 성장한 회사 이야기\n",
    "- 불황 속에서도 성과를 내는 방법이 담겨있음\n",
    "\n",
    "`2` 실제 CEO의 이야기\n",
    "\n",
    "`3` 모든 기업이 원하는 인재상이 담겨 있음"
   ]
  },
  {
   "cell_type": "markdown",
   "id": "d89d2380-e97b-4c61-99de-057314322d5d",
   "metadata": {},
   "source": [
    "### N자로 속독하면서 중요 내용 체크"
   ]
  },
  {
   "cell_type": "markdown",
   "id": "f75bda45-03f9-4310-9dca-e4f9f61233ee",
   "metadata": {},
   "source": [
    "`1` 숫자, 그래프를 중심으로 읽기\n",
    "\n",
    "`2` 목차를 중심으로 읽기\n",
    "\n",
    "`3` 강조 포인트(소제목)을 중심으로 읽기\n",
    "\n",
    "`4` 줄치고, 접고, 쓰면서 읽기\n",
    "\n",
    "- 중요한 내용은 밑줄 긋고, 나의 의견을 적어 놓음\n",
    "\n",
    "- 다시 봐야 할 내용은 위쪽을 접어두기, 아래쪽은 진도 체크용\n",
    "\n",
    "- 여백을 활용해서 적용점을 적으면서 읽기\n",
    "\n",
    "`5` 나의 노트로 옮겨가며 다시 읽기\n",
    "\n",
    "- 노션, 에버노트, 메모장으로 타이핑하며 옮겨라.\n",
    "    * 독후감 형식으로 내가 정리하자.\n",
    " \n",
    "- 본깨적을 활용하자.\n",
    "    * 본깨적 : 저자의 핵심을 제대로 보고(본 것), 그것을 나의 언어로 확대 재생산하여 깨닫고(깨달은 것), 내 삶에 적용하는(적용할 것)\n",
    "- 출력물로 별도 노트화 한다."
   ]
  },
  {
   "cell_type": "markdown",
   "id": "d1c9fc13-1347-4735-9c2d-e63d3bdc193c",
   "metadata": {},
   "source": [
    "## 일본전산 이야기 Part 1. 위기에 강한 직원이 회사를 살린다."
   ]
  },
  {
   "cell_type": "markdown",
   "id": "d9198228-de5b-4722-84d5-a421cfa080d0",
   "metadata": {},
   "source": [
    "### 위기에 강한 직원의 특징"
   ]
  },
  {
   "cell_type": "markdown",
   "id": "b48e9100-9eba-4a84-95c6-398469a1bc06",
   "metadata": {},
   "source": [
    "`1` 정신 상태가 다르다.\n",
    "\n",
    "* 강한 직원을 만드는 3대 (고객 관점, 면접관 관점에서 `나 떄는 말이야 언급`)\n",
    "\n",
    "* 긍정성\n",
    "    * 할 수 있는 방법을 찾기\n",
    "    * 두려워하지 말기\n",
    "    * 움직이지 않는 것을 극복하기\n",
    "\n",
    "\n",
    "* 속도를 최우선시 한다.\n",
    "    * 위기 때는 완성도 보단 `속도`이다\n",
    "\n",
    "`2` 일에 대한 투지가 남다르다.(면접, 자소서에서 어필)\n",
    "\n",
    "* 일을 하는데 시간을 우선순위에 두지 않는다. (배로 투자하라)\n",
    "\n",
    "* 남들이 안하려고 하는 것을 찾아서 한다.\n",
    "\n",
    "* 성과에 대해서 경쟁의식을 가지고 있다.\n",
    "    * 지적인 하드워킹 : 내가 어떻게 어려운 상황에서 내 스마트 워킹을 어떻게 활용해서 해결했는지 어필\n",
    "\n",
    "\n",
    "`3` 결과를 만들어 낸다.\n",
    "\n",
    "- 실행 줌심으로 생각한다.(`4P 체크`)\n",
    "\n",
    "- 현장 중심으로 기획한다.\n",
    "\n",
    "- 기본기부터 시작한다."
   ]
  },
  {
   "cell_type": "markdown",
   "id": "218de15e-95f2-44e4-b7de-3c5b5536f0ea",
   "metadata": {},
   "source": [
    "***"
   ]
  },
  {
   "cell_type": "markdown",
   "id": "bd8ad445-8c36-478e-8d96-3ab2f05c1299",
   "metadata": {},
   "source": [
    "## 면접관의 마음을 사로잡을 적용점"
   ]
  },
  {
   "cell_type": "markdown",
   "id": "97fc4609-43ce-430a-a065-20aaea7b1e4c",
   "metadata": {},
   "source": [
    "### 좌우명 혹은 일의 철학.(p. 25 일본전산의 모토)"
   ]
  },
  {
   "cell_type": "markdown",
   "id": "df0d9a67-0076-42a4-a921-9044b353080b",
   "metadata": {},
   "source": [
    "스터디에서 아래의 내을 내 인생 좌우명으로 정하고 시작하자."
   ]
  },
  {
   "cell_type": "markdown",
   "id": "4f0bb973-4ec2-4212-86af-fcc52a2d19c9",
   "metadata": {},
   "source": [
    "`1` 즉시한다.\n",
    "\n",
    "`2` 반드시 한다.\n",
    "\n",
    "`3` 될 때까지 한다."
   ]
  },
  {
   "cell_type": "markdown",
   "id": "e51dc08b-ee32-4a16-ad6d-64d75767d660",
   "metadata": {},
   "source": [
    "### 집요함과 목표 지향의 표현"
   ]
  },
  {
   "cell_type": "markdown",
   "id": "098ed748-ba2e-480b-99f1-0c579fec56b2",
   "metadata": {},
   "source": [
    "`1` p.35 나가모리 사장의 사표\n",
    "\n",
    "`2` 자신의 철학과 맞지 않는 곳에서 내 청춘을 낭비하지 않는~~~~\n",
    "\n",
    "`3` 보수적이고, 발전성이 없는 조직에서의 경험을 강조함으로써, 지금 기업지원의 적절성을 강조할 수 있음(서류나 면접)"
   ]
  },
  {
   "cell_type": "markdown",
   "id": "7227c4f0-bbcc-41ce-9e26-277269133bd9",
   "metadata": {},
   "source": [
    "### 어려움을 극복할 정신 상태"
   ]
  },
  {
   "cell_type": "markdown",
   "id": "cf957766-147f-4457-8885-d6a643e3cc4b",
   "metadata": {},
   "source": [
    "`1` p36. 부전승 전략\n",
    "\n",
    "`2` 남들이 두손 들고 떠날 때까지, 끝까지 버티면 못 해낼 것도 없다. 모두가 포기하게 된다면, 우리밖에 남는 사람이 없게 될 것 아닌가? - **경험만 가지고 있다면 진실성 있는 전략**"
   ]
  },
  {
   "cell_type": "markdown",
   "id": "496fef72-0d27-4a21-928a-7c8b71badf48",
   "metadata": {},
   "source": [
    "### 나의 적극성을 표현하는 법"
   ]
  },
  {
   "cell_type": "markdown",
   "id": "f896900c-1d99-4753-87ee-92f90ba506d4",
   "metadata": {},
   "source": [
    "`1` p39. 어정쩡하게 살지마라.\n",
    "\n",
    "- 저는 어정쩡하게 살기 싫었습니다.\n",
    "- 이 기업과 직무에 나의 인생에 대한 헌신의 준비가 되어 있음을 어필\n",
    "\n",
    "`2` 이 기업과 직무에 나의 인생에 대한 헌신의 준비가 되어 있음을 어필하는 방법"
   ]
  },
  {
   "cell_type": "markdown",
   "id": "cea48020-d131-41bb-be4c-b6a3d1bd15cf",
   "metadata": {},
   "source": [
    "### 배우려는 자세를 표현하는 방법"
   ]
  },
  {
   "cell_type": "markdown",
   "id": "0756b685-eae8-41ff-9c8c-8c2a0fd50e2f",
   "metadata": {},
   "source": [
    "`1` p43. 현상유지가 아닌 발전\n",
    "\n",
    "`2` 어느 수준에 한번 도달했다고 해서 만족하지말고 **지금도 발전시키고 있는 요소를 사례로 제시**\n",
    "\n",
    "\n",
    "`3` 신발을 정리하는 일을 맡았다면, 신발 정리를 세계에서 제일 잘 할 수 있는 사람이 되어야 한다.\n",
    "\n",
    "* 이렇게 하면 누구도 당신을 신발 정리만 하는 심부름꾼으로 놔두지 않을 것이다.\n",
    "\n",
    "* 만약 다른 일(허드렛)을 하게 된다면 질문이 들어올 경우 $\\to$ 이런 허드렛 일들이 기업에 기여하는 일이기 때문이다를 어필"
   ]
  },
  {
   "cell_type": "markdown",
   "id": "a77d5d92-02c0-4473-b3e6-f8fd942b3299",
   "metadata": {},
   "source": [
    "### 현장 리더십을 강조하는 표현\n",
    "\n",
    "`1` p51 허드렛 일의 중요성\n",
    "\n",
    "`2` 밑바닥 일을 제대로 할 수 있어야 '모든일'을 잘 할 수 있다. 밑바닥 일을 제대로 경험하지 못하면, 나중에 관리자로 성장했을 때 직원들을 제대로 통솔하기 어렵고, 부하 직원들을 이해하기 어렵다는 것이 이들의 지론이다. \n",
    "\n",
    "- 가장 힘든 경험에서 깨달은 경험을 정리 해야함.\n",
    "\n",
    "- 밑바닥의 소중함을 어필\n",
    "\n",
    "- 이상황을 없으면 만들어 내자."
   ]
  },
  {
   "cell_type": "markdown",
   "id": "75d4f20f-8bdc-422e-9b44-7909616a2974",
   "metadata": {},
   "source": [
    "***"
   ]
  },
  {
   "cell_type": "markdown",
   "id": "3f9626c1-32e9-4b5c-b8fc-f4e0af0e7094",
   "metadata": {},
   "source": [
    "# 경험리스트업"
   ]
  },
  {
   "cell_type": "markdown",
   "id": "303756fc-f4c7-4f18-9175-469bb66e4840",
   "metadata": {},
   "source": [
    "### 필살기를 고르는 법"
   ]
  },
  {
   "cell_type": "markdown",
   "id": "2f3b196a-8eaf-401a-9560-a398404ac353",
   "metadata": {},
   "source": [
    "`1` 취업은 우기기다.\n",
    "\n",
    "- 군대경험, 교회경험 다 우겨넣자.\n",
    "\n",
    "- 부트캠프 이야기는 좀 지양하자.(결과물 말하기가 좀 어려움.....)\n",
    "\n",
    "- 경험리스트업 예시 1"
   ]
  },
  {
   "cell_type": "markdown",
   "id": "69317d88-4044-48c2-a54d-6c49e6531005",
   "metadata": {},
   "source": [
    "<center><img src = \"1.png\" width = 500></center>"
   ]
  },
  {
   "cell_type": "markdown",
   "id": "3b65200c-af5b-42d7-9eee-28ecc4de2e2e",
   "metadata": {},
   "source": [
    "`2` 학교경험을 잘 맞물려서 쓰자"
   ]
  },
  {
   "cell_type": "markdown",
   "id": "d7788c55-6ad7-4cb1-ac55-65fe71f3fd70",
   "metadata": {},
   "source": [
    "<center><img src = \"2.png\" width = 500></center>"
   ]
  },
  {
   "cell_type": "markdown",
   "id": "afa48e02-5ef1-4e6e-be4c-9fd153d27e9d",
   "metadata": {},
   "source": [
    "`3` GPT를 잘 활욯하자\n",
    "\n",
    "- 직무 연관성 질문 : 내가 했던 경험을 유사경험으로 활용할 수 있느지 질문\n",
    "\n",
    "- 직무 KPI로 설명할 수 있는 방법 물어보기"
   ]
  },
  {
   "cell_type": "markdown",
   "id": "86136b22-fdc2-4413-922f-c4954f9aa694",
   "metadata": {},
   "source": [
    "`4` Before, After가 명확한 성공경험 예시\n",
    "\n",
    "- 직무 KPI와 관련된 것들 "
   ]
  },
  {
   "cell_type": "markdown",
   "id": "be67413f-85d5-4d96-8ab5-fbe90ea4315e",
   "metadata": {},
   "source": [
    "<center><img src = \"3.png\" width = 500></center>"
   ]
  },
  {
   "cell_type": "markdown",
   "id": "df9b7e51-9b5f-46c1-b188-06efd9c877ed",
   "metadata": {},
   "source": [
    "<center><img src = \"4.png\" width = 500></center>"
   ]
  },
  {
   "cell_type": "markdown",
   "id": "7d05dd27-c68a-4822-92d5-c94fb427585f",
   "metadata": {},
   "source": [
    "`5` 필빌밀 : 이것을 잘 분류해야 한다.\n",
    "\n",
    "- 필살기 : 유사경험 o + 성공경험 o\n",
    "- 빌살기 : 유사경험 x + 성공경험 o (인성관련 질문 답변 소재로 사용)\n",
    "- 밉살기 : 유사경험 o + 성공경험 x (지원동기, 입사 후 포부 일관성을 강조하는 용도)"
   ]
  },
  {
   "cell_type": "markdown",
   "id": "2fe9fa62-e944-4b66-922c-2c8bd4bf75e8",
   "metadata": {},
   "source": [
    "### 인사이트"
   ]
  },
  {
   "cell_type": "markdown",
   "id": "5033d762-b300-48ff-8bc8-168aefb77986",
   "metadata": {},
   "source": [
    "`1` 자소서 바이블 참고\n",
    "\n",
    "<center><img src = \"5.png\" width = 500></center>"
   ]
  },
  {
   "cell_type": "markdown",
   "id": "8542b5f6-8376-4762-9777-e4f84ac505a4",
   "metadata": {},
   "source": [
    "### 역량구조도"
   ]
  },
  {
   "cell_type": "markdown",
   "id": "4f8080b8-81af-462e-b576-7308653fecb8",
   "metadata": {},
   "source": [
    "`1` 자소서 바이블 참고\n",
    "\n",
    "<center><img src = \"6.png\" width = 500></center>"
   ]
  },
  {
   "cell_type": "markdown",
   "id": "12db0b91-9ed6-4807-82b1-e06ae71568ca",
   "metadata": {},
   "source": [
    "`-` 이제 단계별로 학습하자"
   ]
  },
  {
   "cell_type": "markdown",
   "id": "7d4af11c-d9ce-4ac7-a0fa-01eff44fb654",
   "metadata": {},
   "source": [
    "## 경험리스트업(실습)"
   ]
  },
  {
   "cell_type": "markdown",
   "id": "c86c4198-ff1b-4dd5-ba17-4e134264af43",
   "metadata": {},
   "source": [
    "### step1. 직무 KPI 찾기"
   ]
  },
  {
   "cell_type": "markdown",
   "id": "42ea14bc-742d-458e-acd7-e0a3ee35687c",
   "metadata": {},
   "source": [
    "`1` 자소서 메이트(챗 gpt)를 에게 질문\n",
    "\n",
    "- 질문 예시 : 데이터 분석 직무 KPI를 찾고 싶어"
   ]
  },
  {
   "cell_type": "markdown",
   "id": "0ca78999-b1c3-490d-b06b-2ea463724bd5",
   "metadata": {},
   "source": [
    "`2` 경험리스트업을 활용\n",
    "\n",
    "* 질문 : `데이터 분석`직무에 지원할건데 다음 경험에서 필살기, 빌살기, 밉살기 경험으로 분류해주고 KPI로 우선순위를 뽑아줘 내용은 표로 정리해줘"
   ]
  },
  {
   "cell_type": "markdown",
   "id": "93235bdc-3c1b-4a6a-b09b-41c30c7ee15d",
   "metadata": {},
   "source": [
    "`3` 구체적 질문 : 위를 활용하여 자소서 메이트에게 필요한 내용 좀더 구체적 질문"
   ]
  }
 ],
 "metadata": {
  "kernelspec": {
   "display_name": "Python 3 (ipykernel)",
   "language": "python",
   "name": "python3"
  },
  "language_info": {
   "codemirror_mode": {
    "name": "ipython",
    "version": 3
   },
   "file_extension": ".py",
   "mimetype": "text/x-python",
   "name": "python",
   "nbconvert_exporter": "python",
   "pygments_lexer": "ipython3",
   "version": "3.12.2"
  }
 },
 "nbformat": 4,
 "nbformat_minor": 5
}

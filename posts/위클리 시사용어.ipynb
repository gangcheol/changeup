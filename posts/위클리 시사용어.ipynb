{
 "cells": [
  {
   "cell_type": "raw",
   "id": "30bb7566-02cb-4b00-9db1-66340ce10b44",
   "metadata": {},
   "source": [
    "---\n",
    "title : \"위클리 시사용어\"\n",
    "author : \"gc\"\n",
    "date : \"09/26/24\"\n",
    "---"
   ]
  },
  {
   "cell_type": "markdown",
   "id": "29c7ec00-fc6e-4c53-b886-c80246e2164c",
   "metadata": {},
   "source": [
    "# 2023.09 (2wk)"
   ]
  },
  {
   "cell_type": "markdown",
   "id": "6e0c92e1-5385-4867-8073-a195e77b8e5b",
   "metadata": {},
   "source": [
    "`1` 필립스 곡선 : 임금 상승률과 실업률의 관계를 나타낸 그래프\n",
    "\n",
    "- 실업률이 높을수록 임금 상승률(물가 상승률)이 낮아짐\n",
    "\n",
    "- 실업률이 낮아지면 임금 상승률이 높아짐\n",
    "\n",
    "- 실업률을 통해 물가 상승률을 예측할 수 있고 정책 결정의 기준으로 삼을 수 있다는 점에서 의의가 있다.\n",
    "\n",
    "- 하지만, 1970년대 등장한 스태그플레이션을 설명하지 못한다는 한계가 있다.\n",
    "\n",
    "    - 스태그플레이션 : 경제가 침체 상태에 있음에도 불구하고 물가가 지속적으로 상승하는 **비정상적인 경제현상**"
   ]
  },
  {
   "cell_type": "markdown",
   "id": "743058c8-f7f7-437f-ab8d-4ff3cefdb38d",
   "metadata": {},
   "source": [
    "`2` 지니계수 : 소득 분포의 불평등도를 측정하기 위한 계수\n",
    "\n",
    "- 0부터 1까지의 수치로 나타냄, 0에 가까울수록 소득 분포가 평등하다고 판단."
   ]
  },
  {
   "cell_type": "markdown",
   "id": "022dde7f-3297-4863-8477-8105a6010233",
   "metadata": {},
   "source": [
    "`3` GDP : 일정 기간 동안 국적에 상관없이 한 나라의 영역 안에서 생산되는 모든 최종 생산물의 시장 가치의 합\n",
    "\n",
    "- 한 나라의 경제 규모와 생활 수준을 나타냄."
   ]
  },
  {
   "cell_type": "markdown",
   "id": "51d64131-514a-42ab-8d53-6fce558e9a2a",
   "metadata": {},
   "source": [
    "***"
   ]
  },
  {
   "cell_type": "markdown",
   "id": "23a333f8-0d16-4cc1-9b4e-baeefc079ed2",
   "metadata": {},
   "source": [
    "# 2023.09 (3wk)"
   ]
  },
  {
   "cell_type": "markdown",
   "id": "b7175236-b56d-4d37-92a4-ecc17a37fcc3",
   "metadata": {},
   "source": [
    "`1` 무차별 곡선 : 소비자에게 동일한 효용을 주는 재화의 조합(두 개의 변수)을 나타낸 곡선\n",
    "\n",
    "- 효용 : 소비자가 재화를 소비함으로써 얻는 만족감.\n",
    "\n",
    "- 무차별 곡선은 우하향이고, 원점에 대해 볼록한 모양을 가지며, 원점에서 멀어질 수록 더 큰 효용을 나타냄.\n",
    "\n",
    "- 서로 교차하지 않는다는 특징이 있다.\n",
    "\n",
    "- ex. 사과-바나나의 무차별곡선"
   ]
  },
  {
   "attachments": {
    "c2dd68da-7967-4320-be43-b7a29bfd5b30.png": {
     "image/png": "[encoded data removed]"
    }
   },
   "cell_type": "markdown",
   "id": "e087d64a-d220-4cab-980e-c5ce700055a5",
   "metadata": {},
   "source": [
    "![image.png](attachment:c2dd68da-7967-4320-be43-b7a29bfd5b30.png)"
   ]
  },
  {
   "cell_type": "markdown",
   "id": "dc4cddbd-1403-4327-9c08-64e58dbc9848",
   "metadata": {},
   "source": [
    "`2` 디플레이션 : 통화량이 축소됨에 따라 물가가 지속적으로 하락하는 현상\n",
    "\n",
    "- 통화량 : 특정 시기에 경제에서 사용할 수 있는 화폐 자산의 총량\n",
    "\n",
    "- 국제통화기금(IMF)에서는 물가가 2년 정도 지속적으로 하락할 경우 발생하는 경기 침체 상태를 디플레이션으로 정의한다."
   ]
  },
  {
   "cell_type": "markdown",
   "id": "7adf48cd-b2ce-49cd-a6e7-7e2670d62b3d",
   "metadata": {},
   "source": [
    "***"
   ]
  },
  {
   "cell_type": "markdown",
   "id": "b7abd232-0cda-4731-9b07-592209cd5a7e",
   "metadata": {},
   "source": [
    "# 2023.09 (4wk)"
   ]
  },
  {
   "cell_type": "markdown",
   "id": "3c1459b9-4ef1-40de-b55b-eeba3c6dcbc9",
   "metadata": {},
   "source": [
    "`1` 공공재 : 모든 사람들이 공동으로 이용할 수 있는 비배제성과 비경합성을 갖춘 재화\n",
    "\n",
    "- 도로, 항만, 교량 등 모든 사람들이 공동으로 이용하는 물건이나 시설을 의미\n",
    "\n",
    "- 대가를 지불하지 않은 사람을 소비하는 대상에서 제외할 수 없는 비배제성과 소비자가 늘더라도 기존 소비자의 소비량에는 변화가 없는 속성인 비경합성을 특징으로 한다."
   ]
  },
  {
   "cell_type": "markdown",
   "id": "ddabe7fa-161a-4b41-948d-1d2c08d7b8bb",
   "metadata": {},
   "source": [
    "`2` 대체제 : 동일한 효용을 얻을 수 있어 서로 대체가 가능한 재화\n",
    "\n",
    "- 커피와 홍차, 쌀과 밀가루, 만년필과 연필, 버터와 마가린의 관계처럼 동일한 효용을 얻을 수 있어 서로 대체가 가능한 재화를 말함."
   ]
  },
  {
   "cell_type": "markdown",
   "id": "30a37b5a-e5cf-4014-9a38-80c1847f3868",
   "metadata": {},
   "source": [
    "`3` 마찰적 실업 : 구직자가 새로운 일자리를 찾거나 옮기는 과정에서 발생하는 실업\n",
    "\n",
    "- 새로운 직장을 탐색하고 있다는 의미에서 탐색적 실업이라고도 한다.\n",
    "\n",
    "- 마찰적 실업은 경기적 실업이나 구조적 실업과 달리 자발적 실업에 해당한다."
   ]
  },
  {
   "cell_type": "markdown",
   "id": "801d2661-e5e4-4fb6-9a40-382d7c029d55",
   "metadata": {},
   "source": [
    "***"
   ]
  },
  {
   "cell_type": "markdown",
   "id": "c73e645b-6233-4cc5-becb-7fc57d526bc5",
   "metadata": {},
   "source": [
    "# 2023.09 (5wk)"
   ]
  },
  {
   "cell_type": "markdown",
   "id": "b0685c78-b035-43ff-9d4a-b3387a351552",
   "metadata": {},
   "source": [
    "`1` 지급 준비율 : 예금액 중에서 중앙은행에 의무적으로 적립해야 하는 비율\n",
    "\n",
    "- 중앙은행이 지급 준비율로 시중의 유동성을 조절할 수 있어 금융정책의 주요 수단으로 활용되고 있다."
   ]
  },
  {
   "cell_type": "markdown",
   "id": "c5207630-e679-42d1-83bc-027720d41dd6",
   "metadata": {},
   "source": [
    "`2` 유동성 함정 : 통화량을 늘리고 금리를 낮추어도 경제 주체들이 돈을 시장에 내놓지 않아 경기가 나아지지 않는 상태\n",
    "\n",
    "- 경기가 침체된 상태에서 경기를 부양하기 위해 금리를 매우 낮출 경우, 사람들은 가까운 미래에 이자율이 다시 오를 것을 예상하여 화폐를 보유하려는 경향을 보임\n",
    "- 그러나 정부의 금융 정책은 계획한 효과를 얻기 어렵다."
   ]
  },
  {
   "cell_type": "markdown",
   "id": "18c8a1d3-c20a-4e0e-a182-71587e9abecb",
   "metadata": {},
   "source": [
    "`3` 피셔 효과 : 예상 인플레이션율과 시중 명목 금리와 실질 금리의 차이가 같다는 이론\n",
    "\n",
    "- 피셔에 따르면 시중의 명목 금리가 10%일 떄 예상되는 인플레이션율이 6%라면 실질 금리는 4%이며, 피셔는 명목 금리 상상의 원인이 실질 금리상승 또는 예상 인플레이션율 상승이라고 설명하였다."
   ]
  }
 ],
 "metadata": {
  "kernelspec": {
   "display_name": "Python 3 (ipykernel)",
   "language": "python",
   "name": "python3"
  },
  "language_info": {
   "codemirror_mode": {
    "name": "ipython",
    "version": 3
   },
   "file_extension": ".py",
   "mimetype": "text/x-python",
   "name": "python",
   "nbconvert_exporter": "python",
   "pygments_lexer": "ipython3",
   "version": "3.11.7"
  }
 },
 "nbformat": 4,
 "nbformat_minor": 5
}
